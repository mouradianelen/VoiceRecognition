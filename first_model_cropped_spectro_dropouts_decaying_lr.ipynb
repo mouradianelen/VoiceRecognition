{
 "cells": [
  {
   "cell_type": "markdown",
   "metadata": {},
   "source": [
    "### Split the data into train set and test set"
   ]
  },
  {
   "cell_type": "code",
   "execution_count": 9,
   "metadata": {},
   "outputs": [
    {
     "name": "stdout",
     "output_type": "stream",
     "text": [
      "Class mapping created:\n",
      "Total Class 0 samples: 1050\n",
      "Total Class 1 samples: 1350\n",
      "Preparing the dataset...\n",
      "300\n",
      "1920\n",
      "Dataset created\n",
      "Train Inputs shape: torch.Size([64, 1, 64, 64])\n",
      "Train Labels: tensor([1, 1, 0, 0, 0, 1, 1, 1, 0, 0, 0, 0, 1, 0, 0, 1, 1, 0, 1, 0, 0, 1, 1, 1,\n",
      "        1, 1, 0, 1, 1, 0, 1, 0, 1, 0, 0, 0, 0, 0, 1, 1, 0, 1, 1, 1, 0, 0, 0, 1,\n",
      "        1, 0, 0, 1, 0, 1, 1, 0, 1, 0, 0, 1, 1, 1, 1, 0])\n",
      "Test Inputs shape: torch.Size([16, 1, 64, 64])\n",
      "Test Labels: tensor([0, 1, 0, 0, 1, 0, 1, 0, 0, 0, 1, 0, 0, 0, 0, 0])\n"
     ]
    }
   ],
   "source": [
    "from src import DAPSAudioDataset_with_cropping\n",
    "import os\n",
    "from torch.utils.data import DataLoader, Subset\n",
    "\n",
    "import torch\n",
    "\n",
    "audio_dir = \"daps\"\n",
    "\n",
    "class_1_speakers = [\"f1\", \"f7\", \"f8\", \"m3\", \"m6\", \"m8\"]\n",
    "\n",
    "class_mapping = {}\n",
    "\n",
    "for root, dirs, files in os.walk('precomputed_spectrograms_aug'):\n",
    "    for file in files:\n",
    "        audio_path = os.path.join(root, file)\n",
    "        try:\n",
    "            speaker_prefix = file.split(\"_\")[0]\n",
    "            if speaker_prefix in class_1_speakers:\n",
    "                class_mapping[audio_path] = 1\n",
    "            else:\n",
    "                class_mapping[audio_path] = 0\n",
    "        except Exception as e:\n",
    "            print(f\"Error processing {audio_path}: {e}\")\n",
    "\n",
    "print(\"Class mapping created:\")\n",
    "\n",
    "class_0_count = sum(1 for label in class_mapping.values() if label == 0)\n",
    "class_1_count = sum(1 for label in class_mapping.values() if label == 1)\n",
    "print(f\"Total Class 0 samples: {class_0_count}\")\n",
    "print(f\"Total Class 1 samples: {class_1_count}\")\n",
    "print(\"Preparing the dataset...\")\n",
    "\n",
    "full_dataset = DAPSAudioDataset_with_cropping(class_mapping=class_mapping)\n",
    "\n",
    "test_ids =[]\n",
    "train_ids =[]\n",
    "filenames = set()\n",
    "for idx in range(len(full_dataset)):\n",
    "    path, label = full_dataset.class_mapping[idx]\n",
    "    if path is not None:\n",
    "        filename = os.path.basename(path)\n",
    "            \n",
    "        filename_without_ext = os.path.splitext(filename)[0]\n",
    "        parts = filename_without_ext.split('_')\n",
    "            \n",
    "        group = parts[0]\n",
    "        place = \"\"\n",
    "        if 'script1' in filename_without_ext:\n",
    "            if 'aug' not in filename_without_ext:\n",
    "                filenames.add(place)\n",
    "                test_ids.append(idx)\n",
    "            else: \n",
    "                continue\n",
    "        else:\n",
    "            train_ids.append(idx) \n",
    "print(len(test_ids))\n",
    "print(len(train_ids))\n",
    "\n",
    "print(\"Dataset created\")\n",
    "\n",
    "train_dataset = Subset(full_dataset, train_ids)\n",
    "test_dataset = Subset(full_dataset, test_ids)\n",
    "\n",
    "def collate_fn(batch):\n",
    "    batch = [item for item in batch if item is not None]\n",
    "    if len(batch) == 0:\n",
    "        return None\n",
    "    return torch.utils.data.dataloader.default_collate(batch)\n",
    "\n",
    "\n",
    "train_loader = DataLoader(\n",
    "    train_dataset, batch_size=64, shuffle=True, collate_fn=collate_fn\n",
    ")\n",
    "\n",
    "test_loader = DataLoader(\n",
    "    test_dataset, batch_size=16, shuffle=True, collate_fn=collate_fn\n",
    ")\n",
    "\n",
    "for batch in train_loader:\n",
    "    inputs, labels = batch\n",
    "    print(f\"Train Inputs shape: {inputs.shape}\")\n",
    "    print(f\"Train Labels: {labels}\")\n",
    "    break\n",
    "\n",
    "for batch in test_loader:\n",
    "    inputs, labels = batch\n",
    "    print(f\"Test Inputs shape: {inputs.shape}\")\n",
    "    print(f\"Test Labels: {labels}\")\n",
    "    break"
   ]
  },
  {
   "cell_type": "code",
   "execution_count": 10,
   "metadata": {},
   "outputs": [
    {
     "name": "stdout",
     "output_type": "stream",
     "text": [
      "30\n"
     ]
    }
   ],
   "source": [
    "print(len(train_loader))"
   ]
  },
  {
   "cell_type": "code",
   "execution_count": 11,
   "metadata": {},
   "outputs": [
    {
     "data": {
      "text/plain": [
       "19"
      ]
     },
     "execution_count": 11,
     "metadata": {},
     "output_type": "execute_result"
    }
   ],
   "source": [
    "len(test_loader)"
   ]
  },
  {
   "cell_type": "markdown",
   "metadata": {},
   "source": [
    "### The model\n"
   ]
  },
  {
   "cell_type": "code",
   "execution_count": 12,
   "metadata": {},
   "outputs": [],
   "source": [
    "from src import Net "
   ]
  },
  {
   "cell_type": "code",
   "execution_count": 13,
   "metadata": {},
   "outputs": [
    {
     "name": "stdout",
     "output_type": "stream",
     "text": [
      "Net(\n",
      "  (conv1): Conv2d(1, 60, kernel_size=(5, 5), stride=(1, 1))\n",
      "  (bn1): BatchNorm2d(60, eps=1e-05, momentum=0.1, affine=True, track_running_stats=True)\n",
      "  (pool): MaxPool2d(kernel_size=2, stride=2, padding=0, dilation=1, ceil_mode=False)\n",
      "  (conv2): Conv2d(60, 160, kernel_size=(5, 5), stride=(1, 1))\n",
      "  (bn2): BatchNorm2d(160, eps=1e-05, momentum=0.1, affine=True, track_running_stats=True)\n",
      "  (conv3): Conv2d(160, 320, kernel_size=(3, 3), stride=(1, 1))\n",
      "  (bn3): BatchNorm2d(320, eps=1e-05, momentum=0.1, affine=True, track_running_stats=True)\n",
      "  (fc1): Linear(in_features=8000, out_features=120, bias=True)\n",
      "  (dropout1): Dropout(p=0.2, inplace=False)\n",
      "  (fc2): Linear(in_features=120, out_features=84, bias=True)\n",
      "  (dropout2): Dropout(p=0.3, inplace=False)\n",
      "  (fc3): Linear(in_features=84, out_features=10, bias=True)\n",
      ")\n",
      "torch.Size([1, 10])\n"
     ]
    }
   ],
   "source": [
    "import torch\n",
    "\n",
    "\n",
    "\n",
    "freq_bins = 64\n",
    "time_steps = 64\n",
    "\n",
    "model = Net(freq_bins, time_steps)\n",
    "print(model)\n",
    "\n",
    "\n",
    "# Test forward pass\n",
    "\n",
    "test_input = torch.randn(1, 1, 64, 64)  # Simulated random input\n",
    "output = model(test_input)\n",
    "\n",
    "print(output.shape)"
   ]
  },
  {
   "cell_type": "markdown",
   "metadata": {},
   "source": [
    "### Train the model"
   ]
  },
  {
   "cell_type": "code",
   "execution_count": 8,
   "metadata": {},
   "outputs": [],
   "source": [
    "### reduce the train set to few samples for faster training\n",
    "### only for tests/ reduces the efficiency of the model\n",
    "from torch.utils.data import DataLoader, Subset\n",
    "\n",
    "\n",
    "subset_dataset = Subset(train_dataset, list(range(20)))\n",
    "\n",
    "train_loader = DataLoader(subset_dataset, batch_size=1, shuffle=False)"
   ]
  },
  {
   "cell_type": "code",
   "execution_count": 6,
   "metadata": {},
   "outputs": [
    {
     "data": {
      "text/plain": [
       "30"
      ]
     },
     "execution_count": 6,
     "metadata": {},
     "output_type": "execute_result"
    }
   ],
   "source": [
    "len(train_loader)"
   ]
  },
  {
   "cell_type": "code",
   "execution_count": 14,
   "metadata": {},
   "outputs": [],
   "source": [
    "# AVOID YOUR COMPUTER TO CRASH\n",
    "import torch\n",
    "\n",
    "torch.set_num_threads(4) "
   ]
  },
  {
   "cell_type": "code",
   "execution_count": 15,
   "metadata": {},
   "outputs": [
    {
     "name": "stdout",
     "output_type": "stream",
     "text": [
      "Nombre de cœurs physiques: 8\n",
      "Nombre de cœurs logiques (threads disponibles): 4\n"
     ]
    }
   ],
   "source": [
    "import multiprocessing\n",
    "\n",
    "\n",
    "print(\"Nombre de cœurs physiques:\", multiprocessing.cpu_count())\n",
    "\n",
    "\n",
    "logical_cores = torch.get_num_threads()\n",
    "print(\"Nombre de cœurs logiques (threads disponibles):\", logical_cores)\n"
   ]
  },
  {
   "cell_type": "code",
   "execution_count": 16,
   "metadata": {},
   "outputs": [
    {
     "name": "stdout",
     "output_type": "stream",
     "text": [
      "Epoch 1/50, start training...\n",
      "Epoch [1/50], Loss: 0.8998\n",
      "Current learning rate: 0.001000\n",
      "Epoch 2/50, start training...\n",
      "Epoch [2/50], Loss: 0.7171\n",
      "Current learning rate: 0.001000\n",
      "Epoch 3/50, start training...\n",
      "Epoch [3/50], Loss: 0.6992\n",
      "Current learning rate: 0.001000\n",
      "Epoch 4/50, start training...\n",
      "Epoch [4/50], Loss: 0.6917\n",
      "Current learning rate: 0.001000\n",
      "Epoch 5/50, start training...\n",
      "Epoch [5/50], Loss: 0.6268\n",
      "Current learning rate: 0.001000\n",
      "Epoch 6/50, start training...\n",
      "Epoch [6/50], Loss: 0.5588\n",
      "Current learning rate: 0.001000\n",
      "Epoch 7/50, start training...\n",
      "Epoch [7/50], Loss: 0.5383\n",
      "Current learning rate: 0.001000\n",
      "Epoch 8/50, start training...\n",
      "Epoch [8/50], Loss: 0.4796\n",
      "Current learning rate: 0.001000\n",
      "Epoch 9/50, start training...\n",
      "Epoch [9/50], Loss: 0.4367\n",
      "Current learning rate: 0.001000\n",
      "Epoch 10/50, start training...\n",
      "Epoch [10/50], Loss: 0.4205\n",
      "Current learning rate: 0.001000\n",
      "Epoch 11/50, start training...\n",
      "Epoch [11/50], Loss: 0.3992\n",
      "Current learning rate: 0.000100\n",
      "Epoch 12/50, start training...\n",
      "Epoch [12/50], Loss: 0.3752\n",
      "Current learning rate: 0.000100\n",
      "Epoch 13/50, start training...\n",
      "Epoch [13/50], Loss: 0.3684\n",
      "Current learning rate: 0.000100\n",
      "Epoch 14/50, start training...\n",
      "Epoch [14/50], Loss: 0.3467\n",
      "Current learning rate: 0.000100\n",
      "Epoch 15/50, start training...\n",
      "Epoch [15/50], Loss: 0.3538\n",
      "Current learning rate: 0.000100\n",
      "Epoch 16/50, start training...\n",
      "Epoch [16/50], Loss: 0.3512\n",
      "Current learning rate: 0.000100\n",
      "Epoch 17/50, start training...\n",
      "Epoch [17/50], Loss: 0.3319\n",
      "Current learning rate: 0.000100\n",
      "Epoch 18/50, start training...\n",
      "Epoch [18/50], Loss: 0.3377\n",
      "Current learning rate: 0.000100\n",
      "Epoch 19/50, start training...\n",
      "Epoch [19/50], Loss: 0.3590\n",
      "Current learning rate: 0.000100\n",
      "Epoch 20/50, start training...\n",
      "Epoch [20/50], Loss: 0.3238\n",
      "Current learning rate: 0.000100\n",
      "Epoch 21/50, start training...\n",
      "Epoch [21/50], Loss: 0.3092\n",
      "Current learning rate: 0.000010\n",
      "Epoch 22/50, start training...\n",
      "Epoch [22/50], Loss: 0.3130\n",
      "Current learning rate: 0.000010\n",
      "Epoch 23/50, start training...\n",
      "Epoch [23/50], Loss: 0.3108\n",
      "Current learning rate: 0.000010\n",
      "Epoch 24/50, start training...\n",
      "Epoch [24/50], Loss: 0.3155\n",
      "Current learning rate: 0.000010\n",
      "Epoch 25/50, start training...\n",
      "Epoch [25/50], Loss: 0.3170\n",
      "Current learning rate: 0.000010\n",
      "Epoch 26/50, start training...\n",
      "Epoch [26/50], Loss: 0.3165\n",
      "Current learning rate: 0.000010\n",
      "Epoch 27/50, start training...\n",
      "Epoch [27/50], Loss: 0.3076\n",
      "Current learning rate: 0.000010\n",
      "Epoch 28/50, start training...\n",
      "Epoch [28/50], Loss: 0.2995\n",
      "Current learning rate: 0.000010\n",
      "Epoch 29/50, start training...\n",
      "Epoch [29/50], Loss: 0.3030\n",
      "Current learning rate: 0.000010\n",
      "Epoch 30/50, start training...\n",
      "Epoch [30/50], Loss: 0.3139\n",
      "Current learning rate: 0.000010\n",
      "Epoch 31/50, start training...\n",
      "Epoch [31/50], Loss: 0.3189\n",
      "Current learning rate: 0.000001\n",
      "Epoch 32/50, start training...\n",
      "Epoch [32/50], Loss: 0.3104\n",
      "Current learning rate: 0.000001\n",
      "Epoch 33/50, start training...\n",
      "Epoch [33/50], Loss: 0.2987\n",
      "Current learning rate: 0.000001\n",
      "Epoch 34/50, start training...\n",
      "Epoch [34/50], Loss: 0.3116\n",
      "Current learning rate: 0.000001\n",
      "Epoch 35/50, start training...\n",
      "Epoch [35/50], Loss: 0.3113\n",
      "Current learning rate: 0.000001\n",
      "Epoch 36/50, start training...\n",
      "Epoch [36/50], Loss: 0.3097\n",
      "Current learning rate: 0.000001\n",
      "Epoch 37/50, start training...\n",
      "Epoch [37/50], Loss: 0.3068\n",
      "Current learning rate: 0.000001\n",
      "Epoch 38/50, start training...\n",
      "Epoch [38/50], Loss: 0.3090\n",
      "Current learning rate: 0.000001\n",
      "Epoch 39/50, start training...\n",
      "Epoch [39/50], Loss: 0.3042\n",
      "Current learning rate: 0.000001\n",
      "Epoch 40/50, start training...\n",
      "Epoch [40/50], Loss: 0.2986\n",
      "Current learning rate: 0.000001\n",
      "Epoch 41/50, start training...\n",
      "Epoch [41/50], Loss: 0.3097\n",
      "Current learning rate: 0.000000\n",
      "Epoch 42/50, start training...\n",
      "Epoch [42/50], Loss: 0.3075\n",
      "Current learning rate: 0.000000\n",
      "Epoch 43/50, start training...\n",
      "Epoch [43/50], Loss: 0.3126\n",
      "Current learning rate: 0.000000\n",
      "Epoch 44/50, start training...\n",
      "Epoch [44/50], Loss: 0.3198\n",
      "Current learning rate: 0.000000\n",
      "Epoch 45/50, start training...\n",
      "Epoch [45/50], Loss: 0.3107\n",
      "Current learning rate: 0.000000\n",
      "Epoch 46/50, start training...\n",
      "Epoch [46/50], Loss: 0.3016\n",
      "Current learning rate: 0.000000\n",
      "Epoch 47/50, start training...\n",
      "Epoch [47/50], Loss: 0.3102\n",
      "Current learning rate: 0.000000\n",
      "Epoch 48/50, start training...\n",
      "Epoch [48/50], Loss: 0.2978\n",
      "Current learning rate: 0.000000\n",
      "Epoch 49/50, start training...\n",
      "Epoch [49/50], Loss: 0.3056\n",
      "Current learning rate: 0.000000\n",
      "Epoch 50/50, start training...\n",
      "Epoch [50/50], Loss: 0.2921\n",
      "Current learning rate: 0.000000\n",
      "Model saved successfully.\n"
     ]
    }
   ],
   "source": [
    "import torch\n",
    "from torch import nn, optim\n",
    "from torch.utils.data import DataLoader\n",
    "from src import Net\n",
    "\n",
    "device = torch.device(\"cuda\" if torch.cuda.is_available() else \"cpu\")\n",
    "freq_bins = 64\n",
    "time_steps = 64\n",
    "\n",
    "# Model, loss function, and optimizer\n",
    "model = Net(freq_bins, time_steps).to(device)\n",
    "criterion = nn.CrossEntropyLoss()\n",
    "optimizer = optim.Adam(model.parameters(), lr=0.001)  # Initial learning rate\n",
    "\n",
    "# Learning rate scheduler (e.g., ReduceLROnPlateau or StepLR)\n",
    "scheduler = optim.lr_scheduler.StepLR(optimizer, step_size=10, gamma=0.1)\n",
    "# Alternatively: scheduler = optim.lr_scheduler.ReduceLROnPlateau(optimizer, mode='min', factor=0.1, patience=5)\n",
    "\n",
    "num_epochs = 50\n",
    "\n",
    "for epoch in range(num_epochs):\n",
    "    print(f\"Epoch {epoch + 1}/{num_epochs}, start training...\")\n",
    "    model.train()\n",
    "    running_loss = 0.0\n",
    "\n",
    "    for inputs, labels in train_loader:\n",
    "        inputs, labels = inputs.to(device), labels.to(device)\n",
    "\n",
    "        optimizer.zero_grad()\n",
    "\n",
    "        outputs = model(inputs)\n",
    "\n",
    "        loss = criterion(outputs, labels)\n",
    "\n",
    "        loss.backward()\n",
    "        optimizer.step()\n",
    "\n",
    "        running_loss += loss.item()\n",
    "\n",
    "    avg_loss = running_loss / len(train_loader)\n",
    "    print(f\"Epoch [{epoch + 1}/{num_epochs}], Loss: {avg_loss:.4f}\")\n",
    "    current_lr = optimizer.param_groups[0]['lr']\n",
    "    print(f\"Current learning rate: {current_lr:.6f}\")\n",
    "\n",
    "    # Step the scheduler\n",
    "    scheduler.step()  # If using StepLR\n",
    "    # If using ReduceLROnPlateau: scheduler.step(avg_loss)\n",
    "\n",
    "# Save the model\n",
    "torch.save(\n",
    "    model.state_dict(),\n",
    "    f\"simple_cnn_model_reduced_first_layer_decaying_lr{freq_bins}x{time_steps}.pth\",\n",
    ")\n",
    "print(\"Model saved successfully.\")"
   ]
  },
  {
   "cell_type": "markdown",
   "metadata": {},
   "source": [
    "### Evaluate Model"
   ]
  },
  {
   "cell_type": "code",
   "execution_count": 19,
   "metadata": {},
   "outputs": [
    {
     "name": "stderr",
     "output_type": "stream",
     "text": [
      "C:\\Users\\cypri\\AppData\\Local\\Temp\\ipykernel_45076\\4025631402.py:10: FutureWarning: You are using `torch.load` with `weights_only=False` (the current default value), which uses the default pickle module implicitly. It is possible to construct malicious pickle data which will execute arbitrary code during unpickling (See https://github.com/pytorch/pytorch/blob/main/SECURITY.md#untrusted-models for more details). In a future release, the default value for `weights_only` will be flipped to `True`. This limits the functions that could be executed during unpickling. Arbitrary objects will no longer be allowed to be loaded via this mode unless they are explicitly allowlisted by the user via `torch.serialization.add_safe_globals`. We recommend you start setting `weights_only=True` for any use case where you don't have full control of the loaded file. Please open an issue on GitHub for any issues related to this experimental feature.\n",
      "  torch.load(\n",
      "c:\\Users\\cypri\\VoiceRecognition\\src\\pytorch_datasets.py:54: FutureWarning: You are using `torch.load` with `weights_only=False` (the current default value), which uses the default pickle module implicitly. It is possible to construct malicious pickle data which will execute arbitrary code during unpickling (See https://github.com/pytorch/pytorch/blob/main/SECURITY.md#untrusted-models for more details). In a future release, the default value for `weights_only` will be flipped to `True`. This limits the functions that could be executed during unpickling. Arbitrary objects will no longer be allowed to be loaded via this mode unless they are explicitly allowlisted by the user via `torch.serialization.add_safe_globals`. We recommend you start setting `weights_only=True` for any use case where you don't have full control of the loaded file. Please open an issue on GitHub for any issues related to this experimental feature.\n",
      "  spectrogram_tensor = torch.load(spectrogram_path)\n"
     ]
    },
    {
     "name": "stdout",
     "output_type": "stream",
     "text": [
      "the model is loaded\n",
      "start testing occurence 1/19\n",
      "start testing occurence 2/19\n",
      "start testing occurence 3/19\n",
      "start testing occurence 4/19\n",
      "start testing occurence 5/19\n",
      "start testing occurence 6/19\n",
      "start testing occurence 7/19\n",
      "start testing occurence 8/19\n",
      "start testing occurence 9/19\n",
      "start testing occurence 10/19\n",
      "start testing occurence 11/19\n",
      "start testing occurence 12/19\n",
      "start testing occurence 13/19\n",
      "start testing occurence 14/19\n",
      "start testing occurence 15/19\n",
      "start testing occurence 16/19\n",
      "start testing occurence 17/19\n",
      "start testing occurence 18/19\n",
      "start testing occurence 19/19\n",
      "F1-Score: 0.6104\n",
      "Precision: 0.7344\n",
      "Recall: 0.5222\n",
      "Accuracy: 0.8000\n"
     ]
    }
   ],
   "source": [
    "import torch\n",
    "from sklearn.metrics import f1_score, precision_score, recall_score, accuracy_score\n",
    "\n",
    "from src import Net\n",
    "freq_bins = 64\n",
    "time_steps = 64\n",
    "\n",
    "model = Net(freq_bins, time_steps)\n",
    "model.load_state_dict(\n",
    "    torch.load(\n",
    "        f\"simple_cnn_model_reduced_first_layer_decaying_lr{freq_bins}x{time_steps}.pth\"\n",
    "    )\n",
    ")\n",
    "print(\"the model is loaded\")\n",
    "model.eval()\n",
    "\n",
    "all_labels = []\n",
    "all_predictions = []\n",
    "\n",
    "occurence = 0\n",
    "with torch.no_grad():\n",
    "    length = len(test_loader)\n",
    "    for inputs, labels in test_loader:\n",
    "        print(f\"start testing occurence {occurence + 1}/{length}\")\n",
    "        occurence += 1\n",
    "        inputs, labels = inputs.to(device), labels.to(device)\n",
    "\n",
    "        outputs = model(inputs)\n",
    "        _, predicted = torch.max(outputs, 1)\n",
    "\n",
    "        all_labels.extend(labels.cpu().numpy())\n",
    "        all_predictions.extend(predicted.cpu().numpy())\n",
    "\n",
    "f1 = f1_score(all_labels, all_predictions, average=\"binary\")\n",
    "precision = precision_score(all_labels, all_predictions, average=\"binary\")\n",
    "recall = recall_score(all_labels, all_predictions, average=\"binary\")\n",
    "accuracy = accuracy_score(all_labels, all_predictions)\n",
    "\n",
    "# Print metrics\n",
    "print(f\"F1-Score: {f1:.4f}\")\n",
    "print(f\"Precision: {precision:.4f}\")\n",
    "print(f\"Recall: {recall:.4f}\")\n",
    "print(f\"Accuracy: {accuracy:.4f}\")"
   ]
  },
  {
   "cell_type": "code",
   "execution_count": null,
   "metadata": {},
   "outputs": [],
   "source": []
  }
 ],
 "metadata": {
  "kernelspec": {
   "display_name": "Torch_Intro_ML",
   "language": "python",
   "name": "python3"
  },
  "language_info": {
   "codemirror_mode": {
    "name": "ipython",
    "version": 3
   },
   "file_extension": ".py",
   "mimetype": "text/x-python",
   "name": "python",
   "nbconvert_exporter": "python",
   "pygments_lexer": "ipython3",
   "version": "3.12.7"
  }
 },
 "nbformat": 4,
 "nbformat_minor": 2
}
